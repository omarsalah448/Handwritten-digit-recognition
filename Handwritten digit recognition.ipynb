{
 "cells": [
  {
   "cell_type": "markdown",
   "id": "2a07972a",
   "metadata": {},
   "source": [
    "## Handwritten digit recognition using mnist dataset"
   ]
  },
  {
   "cell_type": "markdown",
   "id": "9158f2e1",
   "metadata": {},
   "source": [
    "### Importing the libraries"
   ]
  },
  {
   "cell_type": "code",
   "execution_count": 1,
   "id": "04078aa1",
   "metadata": {},
   "outputs": [],
   "source": [
    "import keras\n",
    "import numpy as np\n",
    "from PIL import Image\n",
    "import matplotlib.pyplot as plt\n",
    "from keras.datasets import mnist\n",
    "from keras.models import Sequential\n",
    "from keras.layers import Conv2D, MaxPooling2D, Dense, Flatten, Dropout"
   ]
  },
  {
   "cell_type": "markdown",
   "id": "832e72ae",
   "metadata": {},
   "source": [
    "### Loading and exploring the dataset"
   ]
  },
  {
   "cell_type": "code",
   "execution_count": 2,
   "id": "70671f07",
   "metadata": {},
   "outputs": [],
   "source": [
    "#loading the dataset\n",
    "(x_train, y_train), (x_test, y_test) = mnist.load_data()"
   ]
  },
  {
   "cell_type": "code",
   "execution_count": 4,
   "id": "d1d483a7",
   "metadata": {},
   "outputs": [
    {
     "name": "stdout",
     "output_type": "stream",
     "text": [
      "Shape of training set X = (60000, 28, 28) , Y = (60000,)\n",
      "Shape of testing set  X = (10000, 28, 28) , Y = (10000,)\n"
     ]
    }
   ],
   "source": [
    "print('Shape of training set X = {} , Y = {}'.format(x_train.shape, y_train.shape))\n",
    "print('Shape of testing set  X = {} , Y = {}'.format(x_test.shape, y_test.shape))"
   ]
  },
  {
   "cell_type": "code",
   "execution_count": 5,
   "id": "98e9d024",
   "metadata": {},
   "outputs": [],
   "source": [
    "#reshaping the dataset\n",
    "x_train = x_train.reshape(x_train.shape[0], 28, 28, 1)\n",
    "x_test = x_test.reshape(x_test.shape[0], 28, 28, 1)\n",
    "\n",
    "y_train = keras.utils.to_categorical(y_train, 10)\n",
    "y_test = keras.utils.to_categorical(y_test, 10)"
   ]
  },
  {
   "cell_type": "code",
   "execution_count": 6,
   "id": "87f342b4",
   "metadata": {},
   "outputs": [
    {
     "name": "stdout",
     "output_type": "stream",
     "text": [
      "Shape of training set X = (60000, 28, 28, 1) , Y = (60000, 10)\n",
      "Shape of testing set  X = (10000, 28, 28, 1) , Y = (10000, 10)\n"
     ]
    }
   ],
   "source": [
    "print('Shape of training set X = {} , Y = {}'.format(x_train.shape, y_train.shape))\n",
    "print('Shape of testing set  X = {} , Y = {}'.format(x_test.shape, y_test.shape))"
   ]
  },
  {
   "cell_type": "markdown",
   "id": "1ee8e101",
   "metadata": {},
   "source": [
    "### Normalizing the data"
   ]
  },
  {
   "cell_type": "code",
   "execution_count": 7,
   "id": "9e29c2a9",
   "metadata": {},
   "outputs": [],
   "source": [
    "x_train = x_train.astype('float32')\n",
    "x_test = x_test.astype('float32')\n",
    "x_train = x_train/255\n",
    "x_test = x_test/255"
   ]
  },
  {
   "cell_type": "markdown",
   "id": "4cdd2d9d",
   "metadata": {},
   "source": [
    "### Model Architecture"
   ]
  },
  {
   "cell_type": "code",
   "execution_count": 8,
   "id": "954f509a",
   "metadata": {},
   "outputs": [],
   "source": [
    "model = Sequential()\n",
    "model.add(Conv2D(filters = 32, kernel_size = (5,5), activation = 'relu', input_shape = (28, 28, 1)))\n",
    "model.add(MaxPooling2D(pool_size = (2,2)))\n",
    "model.add(Conv2D(filters = 64, kernel_size = (3,3), activation = 'relu'))\n",
    "model.add(MaxPooling2D(pool_size = (2,2)))\n",
    "model.add(Flatten())\n",
    "model.add(Dense(units = 128, activation = 'relu'))\n",
    "model.add(Dropout(0.3))\n",
    "model.add(Dense(units = 64, activation = 'relu'))\n",
    "model.add(Dropout(0.5))\n",
    "#units = 10 as we have 10 digits 0-9\n",
    "model.add(Dense(units = 10, activation = 'softmax'))"
   ]
  },
  {
   "cell_type": "code",
   "execution_count": 9,
   "id": "40844a08",
   "metadata": {},
   "outputs": [
    {
     "name": "stdout",
     "output_type": "stream",
     "text": [
      "Epoch 1/10\n",
      "469/469 [==============================] - 37s 71ms/step - loss: 0.3998 - accuracy: 0.8756 - val_loss: 0.0660 - val_accuracy: 0.9806\n",
      "Epoch 2/10\n",
      "469/469 [==============================] - 32s 69ms/step - loss: 0.1144 - accuracy: 0.9694 - val_loss: 0.0451 - val_accuracy: 0.9852\n",
      "Epoch 3/10\n",
      "469/469 [==============================] - 33s 70ms/step - loss: 0.0800 - accuracy: 0.9793 - val_loss: 0.0355 - val_accuracy: 0.9893\n",
      "Epoch 4/10\n",
      "469/469 [==============================] - 32s 69ms/step - loss: 0.0623 - accuracy: 0.9836 - val_loss: 0.0321 - val_accuracy: 0.9909\n",
      "Epoch 5/10\n",
      "469/469 [==============================] - 33s 70ms/step - loss: 0.0532 - accuracy: 0.9861 - val_loss: 0.0370 - val_accuracy: 0.9898\n",
      "Epoch 6/10\n",
      "469/469 [==============================] - 33s 70ms/step - loss: 0.0473 - accuracy: 0.9880 - val_loss: 0.0293 - val_accuracy: 0.9912\n",
      "Epoch 7/10\n",
      "469/469 [==============================] - 33s 70ms/step - loss: 0.0406 - accuracy: 0.9898 - val_loss: 0.0251 - val_accuracy: 0.9928\n",
      "Epoch 8/10\n",
      "469/469 [==============================] - 33s 70ms/step - loss: 0.0339 - accuracy: 0.9910 - val_loss: 0.0303 - val_accuracy: 0.9920\n",
      "Epoch 9/10\n",
      "469/469 [==============================] - 33s 69ms/step - loss: 0.0311 - accuracy: 0.9916 - val_loss: 0.0269 - val_accuracy: 0.9936\n",
      "Epoch 10/10\n",
      "469/469 [==============================] - 32s 69ms/step - loss: 0.0282 - accuracy: 0.9924 - val_loss: 0.0293 - val_accuracy: 0.9931\n",
      "313/313 [==============================] - 3s 8ms/step - loss: 0.0293 - accuracy: 0.9931\n"
     ]
    },
    {
     "data": {
      "text/plain": [
       "[0.02926185354590416, 0.9930999875068665]"
      ]
     },
     "execution_count": 9,
     "metadata": {},
     "output_type": "execute_result"
    }
   ],
   "source": [
    "model.compile(optimizer = keras.optimizers.Adam(learning_rate = 0.001),\n",
    "              loss = keras.losses.categorical_crossentropy, metrics = ['accuracy'])\n",
    "fit = model.fit(x = x_train, y = y_train, validation_data = (x_test, y_test),batch_size = 128, epochs = 10, shuffle = True)\n",
    "model.evaluate(x = x_test, y = y_test)"
   ]
  },
  {
   "cell_type": "code",
   "execution_count": 14,
   "id": "423b08a7",
   "metadata": {},
   "outputs": [
    {
     "name": "stdout",
     "output_type": "stream",
     "text": [
      "1/1 [==============================] - 0s 21ms/step\n",
      "Predicted number: 3\n"
     ]
    },
    {
     "data": {
      "image/png": "[encoded data removed]",
      "text/plain": [
       "<Figure size 432x288 with 1 Axes>"
      ]
     },
     "metadata": {
      "needs_background": "light"
     },
     "output_type": "display_data"
    }
   ],
   "source": [
    "my_image = \"num3.png\"  # feel free to change the image\n",
    "\n",
    "# preprocesing the image to fit the algorithm.\n",
    "image = np.array(Image.open(my_image).resize((28,28)))\n",
    "image = image[:,:,0]\n",
    "plt.imshow(image);\n",
    "image = image / 255.\n",
    "image = image.reshape((1,28,28,1))\n",
    "my_predicted_image = model.predict(image)\n",
    "print('Predicted number: {}'.format(np.argmax(my_predicted_image)))"
   ]
  },
  {
   "cell_type": "code",
   "execution_count": null,
   "id": "b61a0480",
   "metadata": {},
   "outputs": [],
   "source": []
  }
 ],
 "metadata": {
  "kernelspec": {
   "display_name": "Python 3",
   "language": "python",
   "name": "python3"
  },
  "language_info": {
   "codemirror_mode": {
    "name": "ipython",
    "version": 3
   },
   "file_extension": ".py",
   "mimetype": "text/x-python",
   "name": "python",
   "nbconvert_exporter": "python",
   "pygments_lexer": "ipython3",
   "version": "3.8.8"
  }
 },
 "nbformat": 4,
 "nbformat_minor": 5
}
